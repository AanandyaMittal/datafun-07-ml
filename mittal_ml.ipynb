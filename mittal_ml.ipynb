{
 "cells": [
  {
   "cell_type": "markdown",
   "id": "96876f40-59f6-4d95-9ba7-92b0abc2c97f",
   "metadata": {},
   "source": [
    "# **Machine Learning Analysis**"
   ]
  },
  {
   "cell_type": "code",
   "execution_count": 2,
   "id": "33d48d34-f5a6-475d-bce1-d72e2d071314",
   "metadata": {},
   "outputs": [],
   "source": [
    "import pandas as pd\n",
    "from scipy import stats\n",
    "import seaborn as sns\n",
    "from sklearn.model_selection import train_test_split, KFold, cross_val_score\n",
    "from sklearn.linear_model import LinearRegression, ElasticNet, Lasso, Ridge\n",
    "from sklearn.datasets import fetch_california_housing\n",
    "from sklearn import metrics\n",
    "import numpy as np\n",
    "import matplotlib.pyplot as plt"
   ]
  },
  {
   "cell_type": "markdown",
   "id": "37364893-5130-48f6-b4de-40985af70f1e",
   "metadata": {},
   "source": [
    "## **Chart a Straight Line**"
   ]
  },
  {
   "cell_type": "code",
   "execution_count": 3,
   "id": "1ec39f5b-7f2d-438c-9f6b-81a9725ab505",
   "metadata": {
    "scrolled": true
   },
   "outputs": [
    {
     "data": {
      "image/png": "[encoded data removed]",
      "text/plain": [
       "<Figure size 640x480 with 1 Axes>"
      ]
     },
     "metadata": {},
     "output_type": "display_data"
    }
   ],
   "source": [
    "c = lambda f: 5/9*(f-32)\n",
    "temps = [(f,c(f)) for f in range(0,101,10)]\n",
    "\n",
    "temps_df = pd.DataFrame(temps, columns=['Fahrenheit', 'Celsius'])\n",
    "axes = temps_df.plot(x='Fahrenheit', y='Celsius', style='.-')\n",
    "y_label = axes.set_ylabel('Celsius')"
   ]
  },
  {
   "cell_type": "markdown",
   "id": "ff2bd58b-1191-4019-873f-94a7a6368470",
   "metadata": {},
   "source": [
    "## **Predict Avg High Temp in NYC in January**"
   ]
  },
  {
   "cell_type": "markdown",
   "id": "1bb81413-3f02-4234-9492-c0a5f731935c",
   "metadata": {},
   "source": [
    "### **Data Acquisition**"
   ]
  },
  {
   "cell_type": "code",
   "execution_count": 4,
   "id": "548cdc74-06e9-4fd2-b2c4-57cd3fabdc18",
   "metadata": {},
   "outputs": [],
   "source": [
    "nyc_df = pd.read_csv('ave_hi_nyc_jan_1895_2018.csv')"
   ]
  },
  {
   "cell_type": "markdown",
   "id": "83f3d3b8-ab87-4aba-ae27-e4cf16ace75a",
   "metadata": {},
   "source": [
    "### **Data Inspection**"
   ]
  },
  {
   "cell_type": "code",
   "execution_count": 6,
   "id": "644dd322-b7f0-4af1-b996-4ef3b7b44337",
   "metadata": {},
   "outputs": [
    {
     "name": "stdout",
     "output_type": "stream",
     "text": [
      "     Date  Value  Anomaly\n",
      "0  189501   34.2     -2.4\n",
      "1  189601   33.2     -3.4\n",
      "2  189701   34.0     -2.6\n",
      "3  189801   38.5      1.9\n",
      "4  189901   34.9     -1.7\n"
     ]
    }
   ],
   "source": [
    "print(nyc_df.head())"
   ]
  },
  {
   "cell_type": "code",
   "execution_count": 12,
   "id": "63f772c7-ce28-41e6-b322-b4db25499408",
   "metadata": {},
   "outputs": [
    {
     "name": "stdout",
     "output_type": "stream",
     "text": [
      "       Date  Temperature  Anomaly\n",
      "119  201401         35.5     -1.1\n",
      "120  201501         36.1     -0.5\n",
      "121  201601         40.8      4.2\n",
      "122  201701         42.8      6.2\n",
      "123  201801         38.7      2.1\n"
     ]
    }
   ],
   "source": [
    "print(nyc_df.tail())"
   ]
  },
  {
   "cell_type": "markdown",
   "id": "87fbb474-a0a7-4d30-9799-72d48b0adbb0",
   "metadata": {},
   "source": [
    "### **Data Cleaning**"
   ]
  },
  {
   "cell_type": "code",
   "execution_count": 13,
   "id": "48a178fd-67fe-4e44-8356-7c7e3fd1835f",
   "metadata": {},
   "outputs": [
    {
     "data": {
      "text/html": [
       "<div>\n",
       "<style scoped>\n",
       "    .dataframe tbody tr th:only-of-type {\n",
       "        vertical-align: middle;\n",
       "    }\n",
       "\n",
       "    .dataframe tbody tr th {\n",
       "        vertical-align: top;\n",
       "    }\n",
       "\n",
       "    .dataframe thead th {\n",
       "        text-align: right;\n",
       "    }\n",
       "</style>\n",
       "<table border=\"1\" class=\"dataframe\">\n",
       "  <thead>\n",
       "    <tr style=\"text-align: right;\">\n",
       "      <th></th>\n",
       "      <th>Date</th>\n",
       "      <th>Temperature</th>\n",
       "      <th>Anomaly</th>\n",
       "    </tr>\n",
       "  </thead>\n",
       "  <tbody>\n",
       "    <tr>\n",
       "      <th>0</th>\n",
       "      <td>189501</td>\n",
       "      <td>34.2</td>\n",
       "      <td>-2.4</td>\n",
       "    </tr>\n",
       "    <tr>\n",
       "      <th>1</th>\n",
       "      <td>189601</td>\n",
       "      <td>33.2</td>\n",
       "      <td>-3.4</td>\n",
       "    </tr>\n",
       "    <tr>\n",
       "      <th>2</th>\n",
       "      <td>189701</td>\n",
       "      <td>34.0</td>\n",
       "      <td>-2.6</td>\n",
       "    </tr>\n",
       "  </tbody>\n",
       "</table>\n",
       "</div>"
      ],
      "text/plain": [
       "     Date  Temperature  Anomaly\n",
       "0  189501         34.2     -2.4\n",
       "1  189601         33.2     -3.4\n",
       "2  189701         34.0     -2.6"
      ]
     },
     "execution_count": 13,
     "metadata": {},
     "output_type": "execute_result"
    }
   ],
   "source": [
    "nyc_df.columns = ['Date', 'Temperature', 'Anomaly']\n",
    "nyc_df.head(3)"
   ]
  },
  {
   "cell_type": "code",
   "execution_count": 16,
   "id": "632d9c8f-a9e5-45dd-aced-cbb88d02d763",
   "metadata": {},
   "outputs": [
    {
     "data": {
      "text/plain": [
       "dtype('int64')"
      ]
     },
     "execution_count": 16,
     "metadata": {},
     "output_type": "execute_result"
    }
   ],
   "source": [
    "nyc_df.Date.dtype"
   ]
  },
  {
   "cell_type": "code",
   "execution_count": 15,
   "id": "e20e969d-56f3-48a6-bd8a-050b3ff627d6",
   "metadata": {},
   "outputs": [
    {
     "data": {
      "text/html": [
       "<div>\n",
       "<style scoped>\n",
       "    .dataframe tbody tr th:only-of-type {\n",
       "        vertical-align: middle;\n",
       "    }\n",
       "\n",
       "    .dataframe tbody tr th {\n",
       "        vertical-align: top;\n",
       "    }\n",
       "\n",
       "    .dataframe thead th {\n",
       "        text-align: right;\n",
       "    }\n",
       "</style>\n",
       "<table border=\"1\" class=\"dataframe\">\n",
       "  <thead>\n",
       "    <tr style=\"text-align: right;\">\n",
       "      <th></th>\n",
       "      <th>Date</th>\n",
       "      <th>Temperature</th>\n",
       "      <th>Anomaly</th>\n",
       "    </tr>\n",
       "  </thead>\n",
       "  <tbody>\n",
       "    <tr>\n",
       "      <th>0</th>\n",
       "      <td>1895</td>\n",
       "      <td>34.2</td>\n",
       "      <td>-2.4</td>\n",
       "    </tr>\n",
       "    <tr>\n",
       "      <th>1</th>\n",
       "      <td>1896</td>\n",
       "      <td>33.2</td>\n",
       "      <td>-3.4</td>\n",
       "    </tr>\n",
       "    <tr>\n",
       "      <th>2</th>\n",
       "      <td>1897</td>\n",
       "      <td>34.0</td>\n",
       "      <td>-2.6</td>\n",
       "    </tr>\n",
       "  </tbody>\n",
       "</table>\n",
       "</div>"
      ],
      "text/plain": [
       "   Date  Temperature  Anomaly\n",
       "0  1895         34.2     -2.4\n",
       "1  1896         33.2     -3.4\n",
       "2  1897         34.0     -2.6"
      ]
     },
     "execution_count": 15,
     "metadata": {},
     "output_type": "execute_result"
    }
   ],
   "source": [
    "nyc_df.Date = nyc_df.Date.floordiv(100)\n",
    "nyc_df.head(3)"
   ]
  },
  {
   "cell_type": "markdown",
   "id": "63a1e79a-ff5a-4cc5-b59c-954a5b52b1a8",
   "metadata": {},
   "source": [
    "### **Descriptive Statistics**"
   ]
  },
  {
   "cell_type": "code",
   "execution_count": 17,
   "id": "086d90ca-00dc-496a-9fb9-4f90f1db237d",
   "metadata": {},
   "outputs": [
    {
     "name": "stdout",
     "output_type": "stream",
     "text": [
      "count    124.00\n",
      "mean      36.88\n",
      "std        4.59\n",
      "min       25.50\n",
      "25%       33.83\n",
      "50%       36.65\n",
      "75%       39.82\n",
      "max       47.60\n",
      "Name: Temperature, dtype: float64\n"
     ]
    }
   ],
   "source": [
    "pd.set_option('display.precision', 2)\n",
    "\n",
    "print(nyc_df.Temperature.describe())"
   ]
  },
  {
   "cell_type": "markdown",
   "id": "34f2635a-abb6-41c6-99ac-82247ede25f8",
   "metadata": {},
   "source": [
    "### **Build the Model**"
   ]
  },
  {
   "cell_type": "code",
   "execution_count": 25,
   "id": "8d07b0bf-a7d6-47bc-b5aa-b5ba7b130c18",
   "metadata": {},
   "outputs": [
    {
     "name": "stdout",
     "output_type": "stream",
     "text": [
      "Slope: 0.02766136900078678\n",
      "Intercept: -17.23882328874901\n"
     ]
    }
   ],
   "source": [
    "linear_regression = stats.linregress(x=nyc_df.Date, y=nyc_df.Temperature)\n",
    "\n",
    "print(f'Slope: {linear_regression.slope}')\n",
    "print(f'Intercept: {linear_regression.intercept}')"
   ]
  },
  {
   "cell_type": "markdown",
   "id": "a5ad4bba-7bcd-4d36-9795-e99d65b8cf8e",
   "metadata": {},
   "source": [
    "### **Predict**"
   ]
  },
  {
   "cell_type": "code",
   "execution_count": 27,
   "id": "e9f506a6-c6b7-43cc-837d-aedb4b941069",
   "metadata": {},
   "outputs": [
    {
     "name": "stdout",
     "output_type": "stream",
     "text": [
      "Average high temperature in January 2024: 38.74778756884343\n"
     ]
    }
   ],
   "source": [
    "avg_high = linear_regression.slope * 2024 + linear_regression.intercept\n",
    "print(f'Average high temperature in January 2024: {avg_high}')"
   ]
  },
  {
   "cell_type": "markdown",
   "id": "a83442c4-4180-40bd-84e5-55b0a7b04348",
   "metadata": {},
   "source": [
    "### **Visualizations**"
   ]
  },
  {
   "cell_type": "code",
   "execution_count": 28,
   "id": "b7e98bc1-f5a4-4b36-8d2d-f80ae7c44c54",
   "metadata": {},
   "outputs": [
    {
     "data": {
      "text/plain": [
       "Text(0.5, 1.0, 'Average high temperature in January in NYC')"
      ]
     },
     "execution_count": 28,
     "metadata": {},
     "output_type": "execute_result"
    },
    {
     "data": {
      "image/png": "[encoded data removed]",
      "text/plain": [
       "<Figure size 640x480 with 1 Axes>"
      ]
     },
     "metadata": {},
     "output_type": "display_data"
    }
   ],
   "source": [
    "sns.set_style('whitegrid')\n",
    "axes = sns.regplot(x=nyc_df.Date, y=nyc_df.Temperature)\n",
    "axes.set_ylim(10,70)\n",
    "axes.set_title('Average high temperature in January in NYC')"
   ]
  },
  {
   "cell_type": "code",
   "execution_count": null,
   "id": "dde02aee-66b4-4373-881b-54624bb61ec6",
   "metadata": {},
   "outputs": [],
   "source": []
  }
 ],
 "metadata": {
  "kernelspec": {
   "display_name": "Python 3 (ipykernel)",
   "language": "python",
   "name": "python3"
  },
  "language_info": {
   "codemirror_mode": {
    "name": "ipython",
    "version": 3
   },
   "file_extension": ".py",
   "mimetype": "text/x-python",
   "name": "python",
   "nbconvert_exporter": "python",
   "pygments_lexer": "ipython3",
   "version": "3.12.1"
  }
 },
 "nbformat": 4,
 "nbformat_minor": 5
}
